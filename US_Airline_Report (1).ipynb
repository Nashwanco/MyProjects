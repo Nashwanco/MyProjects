{
 "cells": [
  {
   "cell_type": "code",
   "execution_count": 1,
   "id": "0ef83c19",
   "metadata": {},
   "outputs": [
    {
     "name": "stdout",
     "output_type": "stream",
     "text": [
      "Requirement already satisfied: pyppeteer in c:\\users\\nashw\\anaconda3\\lib\\site-packages (1.0.2)\n",
      "Requirement already satisfied: urllib3<2.0.0,>=1.25.8 in c:\\users\\nashw\\anaconda3\\lib\\site-packages (from pyppeteer) (1.26.14)\n",
      "Requirement already satisfied: websockets<11.0,>=10.0 in c:\\users\\nashw\\anaconda3\\lib\\site-packages (from pyppeteer) (10.4)\n",
      "Requirement already satisfied: tqdm<5.0.0,>=4.42.1 in c:\\users\\nashw\\anaconda3\\lib\\site-packages (from pyppeteer) (4.64.1)\n",
      "Requirement already satisfied: pyee<9.0.0,>=8.1.0 in c:\\users\\nashw\\anaconda3\\lib\\site-packages (from pyppeteer) (8.2.2)\n",
      "Requirement already satisfied: certifi>=2021 in c:\\users\\nashw\\anaconda3\\lib\\site-packages (from pyppeteer) (2022.12.7)\n",
      "Requirement already satisfied: appdirs<2.0.0,>=1.4.3 in c:\\users\\nashw\\anaconda3\\lib\\site-packages (from pyppeteer) (1.4.4)\n",
      "Requirement already satisfied: importlib-metadata>=1.4 in c:\\users\\nashw\\anaconda3\\lib\\site-packages (from pyppeteer) (4.11.3)\n",
      "Requirement already satisfied: zipp>=0.5 in c:\\users\\nashw\\anaconda3\\lib\\site-packages (from importlib-metadata>=1.4->pyppeteer) (3.11.0)\n",
      "Requirement already satisfied: colorama in c:\\users\\nashw\\anaconda3\\lib\\site-packages (from tqdm<5.0.0,>=4.42.1->pyppeteer) (0.4.6)\n",
      "Note: you may need to restart the kernel to use updated packages.\n"
     ]
    }
   ],
   "source": [
    "pip install pyppeteer"
   ]
  },
  {
   "cell_type": "code",
   "execution_count": 2,
   "id": "5ce82a41",
   "metadata": {},
   "outputs": [
    {
     "name": "stdout",
     "output_type": "stream",
     "text": [
      "Requirement already satisfied: nbconvert[webpdf] in c:\\users\\nashw\\anaconda3\\lib\\site-packages (6.5.4)\n",
      "Requirement already satisfied: jupyter-core>=4.7 in c:\\users\\nashw\\anaconda3\\lib\\site-packages (from nbconvert[webpdf]) (5.2.0)\n",
      "Requirement already satisfied: nbclient>=0.5.0 in c:\\users\\nashw\\anaconda3\\lib\\site-packages (from nbconvert[webpdf]) (0.5.13)\n",
      "Requirement already satisfied: bleach in c:\\users\\nashw\\anaconda3\\lib\\site-packages (from nbconvert[webpdf]) (4.1.0)\n",
      "Requirement already satisfied: jinja2>=3.0 in c:\\users\\nashw\\anaconda3\\lib\\site-packages (from nbconvert[webpdf]) (3.1.2)\n",
      "Requirement already satisfied: pygments>=2.4.1 in c:\\users\\nashw\\anaconda3\\lib\\site-packages (from nbconvert[webpdf]) (2.11.2)\n",
      "Requirement already satisfied: nbformat>=5.1 in c:\\users\\nashw\\anaconda3\\lib\\site-packages (from nbconvert[webpdf]) (5.7.0)\n",
      "Requirement already satisfied: defusedxml in c:\\users\\nashw\\anaconda3\\lib\\site-packages (from nbconvert[webpdf]) (0.7.1)\n",
      "Requirement already satisfied: jupyterlab-pygments in c:\\users\\nashw\\anaconda3\\lib\\site-packages (from nbconvert[webpdf]) (0.1.2)\n",
      "Requirement already satisfied: entrypoints>=0.2.2 in c:\\users\\nashw\\anaconda3\\lib\\site-packages (from nbconvert[webpdf]) (0.4)\n",
      "Requirement already satisfied: mistune<2,>=0.8.1 in c:\\users\\nashw\\anaconda3\\lib\\site-packages (from nbconvert[webpdf]) (0.8.4)\n",
      "Requirement already satisfied: traitlets>=5.0 in c:\\users\\nashw\\anaconda3\\lib\\site-packages (from nbconvert[webpdf]) (5.7.1)\n",
      "Requirement already satisfied: pandocfilters>=1.4.1 in c:\\users\\nashw\\anaconda3\\lib\\site-packages (from nbconvert[webpdf]) (1.5.0)\n",
      "Requirement already satisfied: tinycss2 in c:\\users\\nashw\\anaconda3\\lib\\site-packages (from nbconvert[webpdf]) (1.2.1)\n",
      "Requirement already satisfied: lxml in c:\\users\\nashw\\anaconda3\\lib\\site-packages (from nbconvert[webpdf]) (4.9.1)\n",
      "Requirement already satisfied: MarkupSafe>=2.0 in c:\\users\\nashw\\anaconda3\\lib\\site-packages (from nbconvert[webpdf]) (2.1.1)\n",
      "Requirement already satisfied: packaging in c:\\users\\nashw\\anaconda3\\lib\\site-packages (from nbconvert[webpdf]) (22.0)\n",
      "Requirement already satisfied: beautifulsoup4 in c:\\users\\nashw\\anaconda3\\lib\\site-packages (from nbconvert[webpdf]) (4.11.1)\n",
      "Requirement already satisfied: pyppeteer<1.1,>=1 in c:\\users\\nashw\\anaconda3\\lib\\site-packages (from nbconvert[webpdf]) (1.0.2)\n",
      "Requirement already satisfied: platformdirs>=2.5 in c:\\users\\nashw\\anaconda3\\lib\\site-packages (from jupyter-core>=4.7->nbconvert[webpdf]) (2.5.2)\n",
      "Requirement already satisfied: pywin32>=1.0 in c:\\users\\nashw\\anaconda3\\lib\\site-packages (from jupyter-core>=4.7->nbconvert[webpdf]) (305.1)\n",
      "Requirement already satisfied: jupyter-client>=6.1.5 in c:\\users\\nashw\\anaconda3\\lib\\site-packages (from nbclient>=0.5.0->nbconvert[webpdf]) (7.3.4)\n",
      "Requirement already satisfied: nest-asyncio in c:\\users\\nashw\\anaconda3\\lib\\site-packages (from nbclient>=0.5.0->nbconvert[webpdf]) (1.5.6)\n",
      "Requirement already satisfied: jsonschema>=2.6 in c:\\users\\nashw\\anaconda3\\lib\\site-packages (from nbformat>=5.1->nbconvert[webpdf]) (4.17.3)\n",
      "Requirement already satisfied: fastjsonschema in c:\\users\\nashw\\anaconda3\\lib\\site-packages (from nbformat>=5.1->nbconvert[webpdf]) (2.16.2)\n",
      "Requirement already satisfied: appdirs<2.0.0,>=1.4.3 in c:\\users\\nashw\\anaconda3\\lib\\site-packages (from pyppeteer<1.1,>=1->nbconvert[webpdf]) (1.4.4)\n",
      "Requirement already satisfied: importlib-metadata>=1.4 in c:\\users\\nashw\\anaconda3\\lib\\site-packages (from pyppeteer<1.1,>=1->nbconvert[webpdf]) (4.11.3)\n",
      "Requirement already satisfied: certifi>=2021 in c:\\users\\nashw\\anaconda3\\lib\\site-packages (from pyppeteer<1.1,>=1->nbconvert[webpdf]) (2022.12.7)\n",
      "Requirement already satisfied: pyee<9.0.0,>=8.1.0 in c:\\users\\nashw\\anaconda3\\lib\\site-packages (from pyppeteer<1.1,>=1->nbconvert[webpdf]) (8.2.2)\n",
      "Requirement already satisfied: urllib3<2.0.0,>=1.25.8 in c:\\users\\nashw\\anaconda3\\lib\\site-packages (from pyppeteer<1.1,>=1->nbconvert[webpdf]) (1.26.14)\n",
      "Requirement already satisfied: websockets<11.0,>=10.0 in c:\\users\\nashw\\anaconda3\\lib\\site-packages (from pyppeteer<1.1,>=1->nbconvert[webpdf]) (10.4)\n",
      "Requirement already satisfied: tqdm<5.0.0,>=4.42.1 in c:\\users\\nashw\\anaconda3\\lib\\site-packages (from pyppeteer<1.1,>=1->nbconvert[webpdf]) (4.64.1)\n",
      "Requirement already satisfied: soupsieve>1.2 in c:\\users\\nashw\\anaconda3\\lib\\site-packages (from beautifulsoup4->nbconvert[webpdf]) (2.3.2.post1)\n",
      "Requirement already satisfied: six>=1.9.0 in c:\\users\\nashw\\anaconda3\\lib\\site-packages (from bleach->nbconvert[webpdf]) (1.16.0)\n",
      "Requirement already satisfied: webencodings in c:\\users\\nashw\\anaconda3\\lib\\site-packages (from bleach->nbconvert[webpdf]) (0.5.1)\n",
      "Requirement already satisfied: zipp>=0.5 in c:\\users\\nashw\\anaconda3\\lib\\site-packages (from importlib-metadata>=1.4->pyppeteer<1.1,>=1->nbconvert[webpdf]) (3.11.0)\n",
      "Requirement already satisfied: attrs>=17.4.0 in c:\\users\\nashw\\anaconda3\\lib\\site-packages (from jsonschema>=2.6->nbformat>=5.1->nbconvert[webpdf]) (22.1.0)\n",
      "Requirement already satisfied: pyrsistent!=0.17.0,!=0.17.1,!=0.17.2,>=0.14.0 in c:\\users\\nashw\\anaconda3\\lib\\site-packages (from jsonschema>=2.6->nbformat>=5.1->nbconvert[webpdf]) (0.18.0)\n",
      "Requirement already satisfied: tornado>=6.0 in c:\\users\\nashw\\anaconda3\\lib\\site-packages (from jupyter-client>=6.1.5->nbclient>=0.5.0->nbconvert[webpdf]) (6.1)\n",
      "Requirement already satisfied: python-dateutil>=2.8.2 in c:\\users\\nashw\\anaconda3\\lib\\site-packages (from jupyter-client>=6.1.5->nbclient>=0.5.0->nbconvert[webpdf]) (2.8.2)\n",
      "Requirement already satisfied: pyzmq>=23.0 in c:\\users\\nashw\\anaconda3\\lib\\site-packages (from jupyter-client>=6.1.5->nbclient>=0.5.0->nbconvert[webpdf]) (23.2.0)\n",
      "Requirement already satisfied: colorama in c:\\users\\nashw\\anaconda3\\lib\\site-packages (from tqdm<5.0.0,>=4.42.1->pyppeteer<1.1,>=1->nbconvert[webpdf]) (0.4.6)\n",
      "Note: you may need to restart the kernel to use updated packages.\n"
     ]
    }
   ],
   "source": [
    "pip install nbconvert[webpdf]\n"
   ]
  },
  {
   "cell_type": "code",
   "execution_count": 3,
   "id": "a3133450",
   "metadata": {},
   "outputs": [
    {
     "name": "stdout",
     "output_type": "stream",
     "text": [
      "Requirement already satisfied: dash in c:\\users\\nashw\\anaconda3\\lib\\site-packages (2.11.1)\n",
      "Requirement already satisfied: plotly>=5.0.0 in c:\\users\\nashw\\anaconda3\\lib\\site-packages (from dash) (5.9.0)\n",
      "Requirement already satisfied: typing-extensions>=4.1.1 in c:\\users\\nashw\\anaconda3\\lib\\site-packages (from dash) (4.4.0)\n",
      "Requirement already satisfied: requests in c:\\users\\nashw\\anaconda3\\lib\\site-packages (from dash) (2.28.1)\n",
      "Requirement already satisfied: Flask<2.3.0,>=1.0.4 in c:\\users\\nashw\\anaconda3\\lib\\site-packages (from dash) (2.2.2)\n",
      "Requirement already satisfied: Werkzeug<2.3.0 in c:\\users\\nashw\\anaconda3\\lib\\site-packages (from dash) (2.2.2)\n",
      "Requirement already satisfied: ansi2html in c:\\users\\nashw\\anaconda3\\lib\\site-packages (from dash) (1.8.0)\n",
      "Requirement already satisfied: nest-asyncio in c:\\users\\nashw\\anaconda3\\lib\\site-packages (from dash) (1.5.6)\n",
      "Requirement already satisfied: dash-table==5.0.0 in c:\\users\\nashw\\anaconda3\\lib\\site-packages (from dash) (5.0.0)\n",
      "Requirement already satisfied: dash-html-components==2.0.0 in c:\\users\\nashw\\anaconda3\\lib\\site-packages (from dash) (2.0.0)\n",
      "Requirement already satisfied: dash-core-components==2.0.0 in c:\\users\\nashw\\anaconda3\\lib\\site-packages (from dash) (2.0.0)\n",
      "Requirement already satisfied: retrying in c:\\users\\nashw\\anaconda3\\lib\\site-packages (from dash) (1.3.4)\n",
      "Requirement already satisfied: Jinja2>=3.0 in c:\\users\\nashw\\anaconda3\\lib\\site-packages (from Flask<2.3.0,>=1.0.4->dash) (3.1.2)\n",
      "Requirement already satisfied: click>=8.0 in c:\\users\\nashw\\anaconda3\\lib\\site-packages (from Flask<2.3.0,>=1.0.4->dash) (8.0.4)\n",
      "Requirement already satisfied: itsdangerous>=2.0 in c:\\users\\nashw\\anaconda3\\lib\\site-packages (from Flask<2.3.0,>=1.0.4->dash) (2.0.1)\n",
      "Requirement already satisfied: tenacity>=6.2.0 in c:\\users\\nashw\\anaconda3\\lib\\site-packages (from plotly>=5.0.0->dash) (8.0.1)\n",
      "Requirement already satisfied: MarkupSafe>=2.1.1 in c:\\users\\nashw\\anaconda3\\lib\\site-packages (from Werkzeug<2.3.0->dash) (2.1.1)\n",
      "Requirement already satisfied: certifi>=2017.4.17 in c:\\users\\nashw\\anaconda3\\lib\\site-packages (from requests->dash) (2022.12.7)\n",
      "Requirement already satisfied: charset-normalizer<3,>=2 in c:\\users\\nashw\\anaconda3\\lib\\site-packages (from requests->dash) (2.0.4)\n",
      "Requirement already satisfied: idna<4,>=2.5 in c:\\users\\nashw\\anaconda3\\lib\\site-packages (from requests->dash) (3.4)\n",
      "Requirement already satisfied: urllib3<1.27,>=1.21.1 in c:\\users\\nashw\\anaconda3\\lib\\site-packages (from requests->dash) (1.26.14)\n",
      "Requirement already satisfied: six>=1.7.0 in c:\\users\\nashw\\anaconda3\\lib\\site-packages (from retrying->dash) (1.16.0)\n",
      "Requirement already satisfied: colorama in c:\\users\\nashw\\anaconda3\\lib\\site-packages (from click>=8.0->Flask<2.3.0,>=1.0.4->dash) (0.4.6)\n",
      "Note: you may need to restart the kernel to use updated packages.\n"
     ]
    }
   ],
   "source": [
    "pip install dash"
   ]
  },
  {
   "cell_type": "code",
   "execution_count": 1,
   "id": "0c1da82c",
   "metadata": {},
   "outputs": [
    {
     "name": "stderr",
     "output_type": "stream",
     "text": [
      "C:\\Users\\nashw\\AppData\\Local\\Temp\\ipykernel_12564\\1729527611.py:4: UserWarning: \n",
      "The dash_html_components package is deprecated. Please replace\n",
      "`import dash_html_components as html` with `from dash import html`\n",
      "  import dash_html_components as html\n",
      "C:\\Users\\nashw\\AppData\\Local\\Temp\\ipykernel_12564\\1729527611.py:5: UserWarning: \n",
      "The dash_core_components package is deprecated. Please replace\n",
      "`import dash_core_components as dcc` with `from dash import dcc`\n",
      "  import dash_core_components as dcc\n"
     ]
    }
   ],
   "source": [
    "#Import libraries\n",
    "import pandas as pd\n",
    "import dash\n",
    "import dash_html_components as html\n",
    "import dash_core_components as dcc\n",
    "from dash.dependencies import Input, Output, State\n",
    "import plotly.graph_objects as go\n",
    "import plotly.express as px\n",
    "from dash import no_update\n"
   ]
  },
  {
   "cell_type": "code",
   "execution_count": 2,
   "id": "6c799cb8",
   "metadata": {},
   "outputs": [],
   "source": [
    "#Read the airline data\n",
    "airline_data =  pd.read_csv('https://cf-courses-data.s3.us.cloud-object-storage.appdomain.cloud/IBMDeveloperSkillsNetwork-DV0101EN-SkillsNetwork/Data%20Files/airline_data.csv', \n",
    "                            encoding = \"ISO-8859-1\",\n",
    "                            dtype={'Div1Airport': str, 'Div1TailNum': str, \n",
    "                                   'Div2Airport': str, 'Div2TailNum': str})"
   ]
  },
  {
   "cell_type": "code",
   "execution_count": 3,
   "id": "1ba762b6",
   "metadata": {},
   "outputs": [],
   "source": [
    "#List of years\n",
    "year_list = [i for i in range(2005, 2021, 1)]"
   ]
  },
  {
   "cell_type": "markdown",
   "id": "b11cc8e3",
   "metadata": {},
   "source": [
    "### Yearly airline performance report\n",
    "1. Number of flights under different cancellation categories using bar chart. \n",
    "2. Average flight time by reporting airline using line chart. \n",
    "3. Percentage of diverted airport landings per reporting airline using pie chart. \n",
    "4. Number of flights flying from each state using choropleth map. \n",
    "5. Number of flights flying to each state from each reporting airline using treemap chart.\n",
    "\n",
    "### Yearly average flight delay statistics For the chosen year provide,\n",
    "1. Monthly average carrier delay by reporting airline for the given year. \n",
    "2. Monthly average weather delay by reporting airline for the given year.\n",
    "3. Monthly average national air system delay by reporting airline for the given year. \n",
    "4. Monthly average security delay by reporting airline for the given year. \n",
    "5. Monthly average late aircraft delay by reporting airline for the given year\n",
    "\n",
    "Columns we need :\n",
    "Month, Year, Flights, CancellationCode, Reporting_Airline, 'AirTime','DivAirportLandings','OriginState','DestState','CarrierDelay','WeatherDelay','NASDelay','SecurityDelay','LateAircraftDelay'"
   ]
  },
  {
   "cell_type": "code",
   "execution_count": 4,
   "id": "e5ac59b0",
   "metadata": {},
   "outputs": [],
   "source": [
    "def compute_data_choice_1(df):\n",
    "    #Cancellation Category Count for Bar Chart\n",
    "    bar_data = df.groupby(['Month','CancellationCode'])['Flights'].sum().reset_index()\n",
    "    #Average flight time by reporting airline\n",
    "    line_data = df.groupby(['Month','Reporting_Airline'])['AirTime'].mean().reset_index()\n",
    "    #Diverted Airport Landings\n",
    "    div_data = df[df['DivAirportLandings'] != 0.0]\n",
    "    #Source state count\n",
    "    map_data = df.groupby(['OriginState'])['Flights'].sum().reset_index()\n",
    "    #Destination state count\n",
    "    tree_data = df.groupby(['DestState', 'Reporting_Airline'])['Flights'].sum().reset_index()\n",
    "    return bar_data, line_data, div_data, map_data, tree_data\n",
    "\n",
    "def compute_data_choice_2(df):\n",
    "    #Compute delay average \n",
    "    avg_car = df.groupby(['Month','Reporting_Airline'])['CarrierDelay'].mean().reset_index()\n",
    "    avg_weather = df.groupby(['Month','Reporting_Airline'])['WeatherDelay'].mean().reset_index()\n",
    "    avg_NAS = df.groupby(['Month','Reporting_Airline'])['NASDelay'].mean().reset_index()\n",
    "    avg_sec = df.groupby(['Month','Reporting_Airline'])['SecurityDelay'].mean().reset_index()\n",
    "    avg_late = df.groupby(['Month','Reporting_Airline'])['LateAircraftDelay'].mean().reset_index()\n",
    "    return avg_car, avg_weather, avg_NAS, avg_sec, avg_late "
   ]
  },
  {
   "cell_type": "code",
   "execution_count": 5,
   "id": "a0f09fa6",
   "metadata": {},
   "outputs": [],
   "source": [
    "#Create dash application and clear the layout until callback executed\n",
    "app = dash.Dash(__name__)\n",
    "\n",
    "#Set the application to show the graphs after callback\n",
    "app.config.suppress_callback_exceptions = True"
   ]
  },
  {
   "cell_type": "code",
   "execution_count": 6,
   "id": "bf3cf740",
   "metadata": {
    "scrolled": true
   },
   "outputs": [
    {
     "data": {
      "text/html": [
       "\n",
       "        <iframe\n",
       "            width=\"100%\"\n",
       "            height=\"650\"\n",
       "            src=\"http://127.0.0.1:8050/\"\n",
       "            frameborder=\"0\"\n",
       "            allowfullscreen\n",
       "            \n",
       "        ></iframe>\n",
       "        "
      ],
      "text/plain": [
       "<IPython.lib.display.IFrame at 0x12e917b3220>"
      ]
     },
     "metadata": {},
     "output_type": "display_data"
    }
   ],
   "source": [
    "\n",
    "# Application layout\n",
    "app.layout = html.Div(children=[\n",
    "                                html.H1('US Domestic Airline Flights Performance', \n",
    "                                style={'textAlign': 'center', 'color': '#503D36',\n",
    "                                'font-size': 24}),\n",
    "                                \n",
    "                                #Outer division\n",
    "                                html.Div([\n",
    "                                    #Inner division 1\n",
    "                                    html.Div([\n",
    "                                        html.Div(\n",
    "                                            [\n",
    "                                            html.H2('Report Type:', style={'margin-right': '2em'}),\n",
    "                                            ]\n",
    "                                                ),\n",
    "                                         dcc.Dropdown(id='input-type', \n",
    "                                                    options=[\n",
    "                                                    {'label': 'Yearly Airline Performance Report', 'value': 'OPT1'},\n",
    "                                                    {'label': 'Yearly Airline Delay Report', 'value': 'OPT2'}\n",
    "                                                    ],\n",
    "                                                    placeholder='Select a report type',\n",
    "                                                    style={'width': '80%', 'padding': '3px', 'font size': '20px', 'text-align-last': 'center'})], \n",
    "                                                    style={'display':'flex'}),\n",
    "                                    \n",
    "                                    #Inner division 2\n",
    "                                    html.Div([\n",
    "                                         html.Div(\n",
    "                                            [\n",
    "                                            html.H2('Choose Year:', style={'margin-right': '2em'}),\n",
    "                                            ]\n",
    "                                                ),\n",
    "                                        dcc.Dropdown(id='input-year', \n",
    "                                                     # Update dropdown values using list comphrehension\n",
    "                                                     options=[{'label': i, 'value': i} for i in year_list],\n",
    "                                                     placeholder=\"Select a year\",\n",
    "                                                     style={'width':'80%', 'padding':'3px', 'font-size': '20px', 'text-align-last' : 'center'}),\n",
    "                                            # Place them next to each other using the division style\n",
    "                                            ], style={'display': 'flex'}),  \n",
    "                                          ]),\n",
    "                                \n",
    "                                # Add computer graphs to be updated during callback\n",
    "                                #1st division\n",
    "                                html.Div([ ], id='plot1'),\n",
    "                                #2nd division\n",
    "                                html.Div([\n",
    "                                        html.Div([ ], id='plot2'),\n",
    "                                        html.Div([ ], id='plot3')\n",
    "                                ], style={'display': 'flex'}),\n",
    "                                #3rd division\n",
    "                                html.Div([\n",
    "                                        html.Div([ ], id='plot4'),\n",
    "                                        html.Div([ ], id='plot5')\n",
    "                                ], style={'display': 'flex'})])\n",
    "\n",
    "#Create the callback\n",
    "\n",
    "@app.callback([Output(component_id='plot1', component_property='children'),\n",
    "               Output(component_id='plot2', component_property='children'),\n",
    "               Output(component_id='plot3', component_property='children'),\n",
    "               Output(component_id='plot4', component_property='children'),\n",
    "               Output(component_id='plot5', component_property='children')],\n",
    "              [Input(component_id='input-type', component_property='value'),\n",
    "               Input(component_id='input-year', component_property='value')],\n",
    "               #Holding output state till user enters all the form information (type of chart and year)\n",
    "              [State(\"plot1\", 'children'), State(\"plot2\", \"children\"),\n",
    "               State(\"plot3\", \"children\"), State(\"plot4\", \"children\"),\n",
    "               State(\"plot5\", \"children\")\n",
    "              ])\n",
    "\n",
    "\n",
    "\n",
    "# Add computation to callback function and return graph\n",
    "def get_graph(chart, year, children1, children2, c3, c4, c5):\n",
    "      \n",
    "        # Select data\n",
    "        df =  airline_data[airline_data['Year']== year]\n",
    "       \n",
    "        if chart == 'OPT1':\n",
    "            # Compute required information for creating graph from the data\n",
    "            bar_data, line_data, div_data, map_data, tree_data = compute_data_choice_1(df)\n",
    "            \n",
    "            # Number of flights under different cancellation categories\n",
    "            bar_fig = px.bar(bar_data, x='Month', y='Flights', color='CancellationCode', title='Monthly Flight Cancellation')\n",
    "            \n",
    "            # Average flight time by reporting airline\n",
    "            line_fig = px.line(line_data, x ='Month', y='AirTime', color = 'Reporting_Airline', title = 'Average monthly flight time (minutes) by airline.')\n",
    "            \n",
    "            # Percentage of diverted airport landings per reporting airline\n",
    "            pie_fig = px.pie(div_data, values='Flights', names='Reporting_Airline', title='% of flights by reporting airline')\n",
    "            \n",
    "            # Number of flights flying from each state using choropleth\n",
    "            map_fig = px.choropleth(map_data,  # Input data\n",
    "                    locations='OriginState', \n",
    "                    color='Flights',  \n",
    "                    hover_data=['OriginState', 'Flights'], \n",
    "                    locationmode = 'USA-states', # Set to plot as US States\n",
    "                    color_continuous_scale='GnBu',\n",
    "                    range_color=[0, map_data['Flights'].max()]) \n",
    "            map_fig.update_layout(\n",
    "                    title_text = 'Number of flights from origin state', \n",
    "                    geo_scope='usa') # Plot only the USA instead of globe\n",
    "            \n",
    "            # Number of flights flying to each state from each reporting airline\n",
    "            tree_fig = px.treemap(tree_data, path=['DestState', 'Reporting_Airline'], \n",
    "                      values='Flights',\n",
    "                      color='Reporting_Airline',\n",
    "                      color_continuous_scale='RdBu',\n",
    "                      title='Flight count by airline to destination state'\n",
    "                )\n",
    "            return [dcc.Graph(figure=tree_fig), \n",
    "                    dcc.Graph(figure=pie_fig),\n",
    "                    dcc.Graph(figure=map_fig),\n",
    "                    dcc.Graph(figure=bar_fig),\n",
    "                    dcc.Graph(figure=line_fig)\n",
    "                   ]\n",
    "            \n",
    "        else:\n",
    "            # Charts under \"Flight Delay Time Statistics Dashboard\" section\n",
    "            # Compute required information for creating graph from the data\n",
    "            avg_car, avg_weather, avg_NAS, avg_sec, avg_late = compute_data_choice_2(df)\n",
    "            \n",
    "            # Create graph\n",
    "            carrier_fig = px.line(avg_car, x='Month', y='CarrierDelay', color='Reporting_Airline', title='Average carrrier delay time (minutes) by airline')\n",
    "            weather_fig = px.line(avg_weather, x='Month', y='WeatherDelay', color='Reporting_Airline', title='Average weather delay time (minutes) by airline')\n",
    "            nas_fig = px.line(avg_NAS, x='Month', y='NASDelay', color='Reporting_Airline', title='Average NAS delay time (minutes) by airline')\n",
    "            sec_fig = px.line(avg_sec, x='Month', y='SecurityDelay', color='Reporting_Airline', title='Average security delay time (minutes) by airline')\n",
    "            late_fig = px.line(avg_late, x='Month', y='LateAircraftDelay', color='Reporting_Airline', title='Average late aircraft delay time (minutes) by airline')\n",
    "            \n",
    "            return[dcc.Graph(figure=carrier_fig), \n",
    "                   dcc.Graph(figure=weather_fig), \n",
    "                   dcc.Graph(figure=nas_fig), \n",
    "                   dcc.Graph(figure=sec_fig), \n",
    "                   dcc.Graph(figure=late_fig)]\n",
    "        \n",
    "# Run the app\n",
    "if __name__ == '__main__':\n",
    "    app.run_server()"
   ]
  },
  {
   "cell_type": "code",
   "execution_count": null,
   "id": "5489096f",
   "metadata": {},
   "outputs": [],
   "source": []
  }
 ],
 "metadata": {
  "kernelspec": {
   "display_name": "Python 3 (ipykernel)",
   "language": "python",
   "name": "python3"
  },
  "language_info": {
   "codemirror_mode": {
    "name": "ipython",
    "version": 3
   },
   "file_extension": ".py",
   "mimetype": "text/x-python",
   "name": "python",
   "nbconvert_exporter": "python",
   "pygments_lexer": "ipython3",
   "version": "3.10.9"
  }
 },
 "nbformat": 4,
 "nbformat_minor": 5
}
